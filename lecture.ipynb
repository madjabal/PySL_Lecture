{
 "cells": [
  {
   "cell_type": "code",
   "execution_count": 1,
   "metadata": {},
   "outputs": [],
   "source": [
    "import pandas as pd\n",
    "import numpy as np\n",
    "import sklearn as sk\n",
    "import matplotlib.pyplot as plt\n",
    "import seaborn as sns"
   ]
  },
  {
   "cell_type": "markdown",
   "metadata": {},
   "source": [
    "### Data Import using Pandas"
   ]
  },
  {
   "cell_type": "code",
   "execution_count": 29,
   "metadata": {},
   "outputs": [],
   "source": [
    "df = pd.read_csv('lecture_data.csv')"
   ]
  },
  {
   "cell_type": "code",
   "execution_count": 32,
   "metadata": {},
   "outputs": [
    {
     "data": {
      "text/html": [
       "<div>\n",
       "<style scoped>\n",
       "    .dataframe tbody tr th:only-of-type {\n",
       "        vertical-align: middle;\n",
       "    }\n",
       "\n",
       "    .dataframe tbody tr th {\n",
       "        vertical-align: top;\n",
       "    }\n",
       "\n",
       "    .dataframe thead th {\n",
       "        text-align: right;\n",
       "    }\n",
       "</style>\n",
       "<table border=\"1\" class=\"dataframe\">\n",
       "  <thead>\n",
       "    <tr style=\"text-align: right;\">\n",
       "      <th></th>\n",
       "      <th>Date</th>\n",
       "      <th>Open</th>\n",
       "      <th>High</th>\n",
       "      <th>Low</th>\n",
       "      <th>Close</th>\n",
       "      <th>Volume</th>\n",
       "    </tr>\n",
       "  </thead>\n",
       "  <tbody>\n",
       "    <tr>\n",
       "      <th>0</th>\n",
       "      <td>2006-01-03</td>\n",
       "      <td>10.34</td>\n",
       "      <td>10.68</td>\n",
       "      <td>10.32</td>\n",
       "      <td>10.68</td>\n",
       "      <td>201853036</td>\n",
       "    </tr>\n",
       "    <tr>\n",
       "      <th>1</th>\n",
       "      <td>2006-01-04</td>\n",
       "      <td>10.73</td>\n",
       "      <td>10.85</td>\n",
       "      <td>10.64</td>\n",
       "      <td>10.71</td>\n",
       "      <td>155225609</td>\n",
       "    </tr>\n",
       "    <tr>\n",
       "      <th>2</th>\n",
       "      <td>2006-01-05</td>\n",
       "      <td>10.69</td>\n",
       "      <td>10.70</td>\n",
       "      <td>10.54</td>\n",
       "      <td>10.63</td>\n",
       "      <td>112396081</td>\n",
       "    </tr>\n",
       "    <tr>\n",
       "      <th>3</th>\n",
       "      <td>2006-01-06</td>\n",
       "      <td>10.75</td>\n",
       "      <td>10.96</td>\n",
       "      <td>10.65</td>\n",
       "      <td>10.90</td>\n",
       "      <td>176139334</td>\n",
       "    </tr>\n",
       "    <tr>\n",
       "      <th>4</th>\n",
       "      <td>2006-01-09</td>\n",
       "      <td>10.96</td>\n",
       "      <td>11.03</td>\n",
       "      <td>10.82</td>\n",
       "      <td>10.86</td>\n",
       "      <td>168861224</td>\n",
       "    </tr>\n",
       "  </tbody>\n",
       "</table>\n",
       "</div>"
      ],
      "text/plain": [
       "         Date   Open   High    Low  Close     Volume\n",
       "0  2006-01-03  10.34  10.68  10.32  10.68  201853036\n",
       "1  2006-01-04  10.73  10.85  10.64  10.71  155225609\n",
       "2  2006-01-05  10.69  10.70  10.54  10.63  112396081\n",
       "3  2006-01-06  10.75  10.96  10.65  10.90  176139334\n",
       "4  2006-01-09  10.96  11.03  10.82  10.86  168861224"
      ]
     },
     "execution_count": 32,
     "metadata": {},
     "output_type": "execute_result"
    }
   ],
   "source": [
    "df.head()"
   ]
  },
  {
   "cell_type": "markdown",
   "metadata": {},
   "source": [
    "### Operations"
   ]
  },
  {
   "cell_type": "code",
   "execution_count": 4,
   "metadata": {},
   "outputs": [],
   "source": [
    "# Unpacks the date column to multiple features\n",
    "from datetime import datetime\n",
    "\n",
    "def process_dates(df, column='Date', dform='%Y-%m-%d', year=True, month=True, \n",
    "                  day=True, weekday=True, inplace=False, drop_date=False):\n",
    "    # Extracts desired features from date\n",
    "    dates = df[column]\n",
    "        \n",
    "    date_dict = {'year': [], 'month': [], 'day': [], 'weekday': []}\n",
    "    \n",
    "    for i in range(len(df)):\n",
    "        date = datetime.strptime(dates[i], dform)\n",
    "        if year:\n",
    "            date_dict['year'].append(date.year)\n",
    "        if month:\n",
    "            date_dict['month'].append(date.month)\n",
    "        if day:\n",
    "            date_dict['day'].append(date.day)\n",
    "        if weekday:\n",
    "            date_dict['weekday'].append(date.weekday())\n",
    "    \n",
    "    for feature in date_dict:\n",
    "        if len(date_dict[feature]) == 0:\n",
    "            del date_dict[feature]\n",
    "            \n",
    "    if drop_date:\n",
    "        df.drop(column, inplace=True, axis=1)\n",
    "    \n",
    "    if inplace:\n",
    "        for key in date_dict:\n",
    "            df[key] = date_dict[key]\n",
    "        return None\n",
    "            \n",
    "    return date_dict"
   ]
  },
  {
   "cell_type": "code",
   "execution_count": 26,
   "metadata": {},
   "outputs": [],
   "source": [
    "process_dates(df, inplace=True, drop_date=True)"
   ]
  },
  {
   "cell_type": "code",
   "execution_count": 27,
   "metadata": {},
   "outputs": [
    {
     "data": {
      "text/html": [
       "<div>\n",
       "<style scoped>\n",
       "    .dataframe tbody tr th:only-of-type {\n",
       "        vertical-align: middle;\n",
       "    }\n",
       "\n",
       "    .dataframe tbody tr th {\n",
       "        vertical-align: top;\n",
       "    }\n",
       "\n",
       "    .dataframe thead th {\n",
       "        text-align: right;\n",
       "    }\n",
       "</style>\n",
       "<table border=\"1\" class=\"dataframe\">\n",
       "  <thead>\n",
       "    <tr style=\"text-align: right;\">\n",
       "      <th></th>\n",
       "      <th>Open</th>\n",
       "      <th>High</th>\n",
       "      <th>Low</th>\n",
       "      <th>Close</th>\n",
       "      <th>Volume</th>\n",
       "      <th>year</th>\n",
       "      <th>month</th>\n",
       "      <th>day</th>\n",
       "      <th>weekday</th>\n",
       "    </tr>\n",
       "  </thead>\n",
       "  <tbody>\n",
       "    <tr>\n",
       "      <th>0</th>\n",
       "      <td>10.34</td>\n",
       "      <td>10.68</td>\n",
       "      <td>10.32</td>\n",
       "      <td>10.68</td>\n",
       "      <td>201853036</td>\n",
       "      <td>2006</td>\n",
       "      <td>1</td>\n",
       "      <td>3</td>\n",
       "      <td>1</td>\n",
       "    </tr>\n",
       "    <tr>\n",
       "      <th>1</th>\n",
       "      <td>10.73</td>\n",
       "      <td>10.85</td>\n",
       "      <td>10.64</td>\n",
       "      <td>10.71</td>\n",
       "      <td>155225609</td>\n",
       "      <td>2006</td>\n",
       "      <td>1</td>\n",
       "      <td>4</td>\n",
       "      <td>2</td>\n",
       "    </tr>\n",
       "    <tr>\n",
       "      <th>2</th>\n",
       "      <td>10.69</td>\n",
       "      <td>10.70</td>\n",
       "      <td>10.54</td>\n",
       "      <td>10.63</td>\n",
       "      <td>112396081</td>\n",
       "      <td>2006</td>\n",
       "      <td>1</td>\n",
       "      <td>5</td>\n",
       "      <td>3</td>\n",
       "    </tr>\n",
       "    <tr>\n",
       "      <th>3</th>\n",
       "      <td>10.75</td>\n",
       "      <td>10.96</td>\n",
       "      <td>10.65</td>\n",
       "      <td>10.90</td>\n",
       "      <td>176139334</td>\n",
       "      <td>2006</td>\n",
       "      <td>1</td>\n",
       "      <td>6</td>\n",
       "      <td>4</td>\n",
       "    </tr>\n",
       "    <tr>\n",
       "      <th>4</th>\n",
       "      <td>10.96</td>\n",
       "      <td>11.03</td>\n",
       "      <td>10.82</td>\n",
       "      <td>10.86</td>\n",
       "      <td>168861224</td>\n",
       "      <td>2006</td>\n",
       "      <td>1</td>\n",
       "      <td>9</td>\n",
       "      <td>0</td>\n",
       "    </tr>\n",
       "  </tbody>\n",
       "</table>\n",
       "</div>"
      ],
      "text/plain": [
       "    Open   High    Low  Close     Volume  year  month  day  weekday\n",
       "0  10.34  10.68  10.32  10.68  201853036  2006      1    3        1\n",
       "1  10.73  10.85  10.64  10.71  155225609  2006      1    4        2\n",
       "2  10.69  10.70  10.54  10.63  112396081  2006      1    5        3\n",
       "3  10.75  10.96  10.65  10.90  176139334  2006      1    6        4\n",
       "4  10.96  11.03  10.82  10.86  168861224  2006      1    9        0"
      ]
     },
     "execution_count": 27,
     "metadata": {},
     "output_type": "execute_result"
    }
   ],
   "source": [
    "df.head()"
   ]
  },
  {
   "cell_type": "markdown",
   "metadata": {},
   "source": [
    "### Scaling "
   ]
  },
  {
   "cell_type": "code",
   "execution_count": 7,
   "metadata": {},
   "outputs": [],
   "source": [
    "from sklearn.preprocessing import StandardScaler"
   ]
  },
  {
   "cell_type": "code",
   "execution_count": 8,
   "metadata": {},
   "outputs": [],
   "source": [
    "scaler = StandardScaler()\n",
    "snp = scaler.fit_transform(df)"
   ]
  },
  {
   "cell_type": "code",
   "execution_count": 9,
   "metadata": {},
   "outputs": [
    {
     "data": {
      "text/plain": [
       "numpy.ndarray"
      ]
     },
     "execution_count": 9,
     "metadata": {},
     "output_type": "execute_result"
    }
   ],
   "source": [
    "# Returns a NumPy array!\n",
    "type(snp)"
   ]
  },
  {
   "cell_type": "code",
   "execution_count": 10,
   "metadata": {},
   "outputs": [],
   "source": [
    "sdf = pd.DataFrame(snp, columns=df.columns)"
   ]
  },
  {
   "cell_type": "code",
   "execution_count": 11,
   "metadata": {},
   "outputs": [
    {
     "data": {
      "text/html": [
       "<div>\n",
       "<style scoped>\n",
       "    .dataframe tbody tr th:only-of-type {\n",
       "        vertical-align: middle;\n",
       "    }\n",
       "\n",
       "    .dataframe tbody tr th {\n",
       "        vertical-align: top;\n",
       "    }\n",
       "\n",
       "    .dataframe thead th {\n",
       "        text-align: right;\n",
       "    }\n",
       "</style>\n",
       "<table border=\"1\" class=\"dataframe\">\n",
       "  <thead>\n",
       "    <tr style=\"text-align: right;\">\n",
       "      <th></th>\n",
       "      <th>Open</th>\n",
       "      <th>High</th>\n",
       "      <th>Low</th>\n",
       "      <th>Close</th>\n",
       "      <th>Volume</th>\n",
       "      <th>year</th>\n",
       "      <th>month</th>\n",
       "      <th>day</th>\n",
       "      <th>weekday</th>\n",
       "    </tr>\n",
       "  </thead>\n",
       "  <tbody>\n",
       "    <tr>\n",
       "      <th>0</th>\n",
       "      <td>-1.220492</td>\n",
       "      <td>-1.218115</td>\n",
       "      <td>-1.214590</td>\n",
       "      <td>-1.212307</td>\n",
       "      <td>0.694305</td>\n",
       "      <td>-1.593657</td>\n",
       "      <td>-1.620300</td>\n",
       "      <td>-1.457731</td>\n",
       "      <td>-0.730916</td>\n",
       "    </tr>\n",
       "    <tr>\n",
       "      <th>1</th>\n",
       "      <td>-1.211731</td>\n",
       "      <td>-1.214320</td>\n",
       "      <td>-1.207354</td>\n",
       "      <td>-1.211633</td>\n",
       "      <td>0.236451</td>\n",
       "      <td>-1.593657</td>\n",
       "      <td>-1.620300</td>\n",
       "      <td>-1.343360</td>\n",
       "      <td>-0.016101</td>\n",
       "    </tr>\n",
       "    <tr>\n",
       "      <th>2</th>\n",
       "      <td>-1.212630</td>\n",
       "      <td>-1.217668</td>\n",
       "      <td>-1.209616</td>\n",
       "      <td>-1.213430</td>\n",
       "      <td>-0.184110</td>\n",
       "      <td>-1.593657</td>\n",
       "      <td>-1.620300</td>\n",
       "      <td>-1.228989</td>\n",
       "      <td>0.698715</td>\n",
       "    </tr>\n",
       "    <tr>\n",
       "      <th>3</th>\n",
       "      <td>-1.211282</td>\n",
       "      <td>-1.211865</td>\n",
       "      <td>-1.207128</td>\n",
       "      <td>-1.207366</td>\n",
       "      <td>0.441811</td>\n",
       "      <td>-1.593657</td>\n",
       "      <td>-1.620300</td>\n",
       "      <td>-1.114618</td>\n",
       "      <td>1.413531</td>\n",
       "    </tr>\n",
       "    <tr>\n",
       "      <th>4</th>\n",
       "      <td>-1.206565</td>\n",
       "      <td>-1.210303</td>\n",
       "      <td>-1.203284</td>\n",
       "      <td>-1.208264</td>\n",
       "      <td>0.370344</td>\n",
       "      <td>-1.593657</td>\n",
       "      <td>-1.620300</td>\n",
       "      <td>-0.771504</td>\n",
       "      <td>-1.445732</td>\n",
       "    </tr>\n",
       "    <tr>\n",
       "      <th>...</th>\n",
       "      <td>...</td>\n",
       "      <td>...</td>\n",
       "      <td>...</td>\n",
       "      <td>...</td>\n",
       "      <td>...</td>\n",
       "      <td>...</td>\n",
       "      <td>...</td>\n",
       "      <td>...</td>\n",
       "      <td>...</td>\n",
       "    </tr>\n",
       "    <tr>\n",
       "      <th>3014</th>\n",
       "      <td>2.471086</td>\n",
       "      <td>2.458761</td>\n",
       "      <td>2.497915</td>\n",
       "      <td>2.478091</td>\n",
       "      <td>-1.127232</td>\n",
       "      <td>1.593369</td>\n",
       "      <td>1.592151</td>\n",
       "      <td>0.715322</td>\n",
       "      <td>1.413531</td>\n",
       "    </tr>\n",
       "    <tr>\n",
       "      <th>3015</th>\n",
       "      <td>2.383929</td>\n",
       "      <td>2.370599</td>\n",
       "      <td>2.388923</td>\n",
       "      <td>2.378381</td>\n",
       "      <td>-0.961911</td>\n",
       "      <td>1.593369</td>\n",
       "      <td>1.592151</td>\n",
       "      <td>1.172807</td>\n",
       "      <td>-0.730916</td>\n",
       "    </tr>\n",
       "    <tr>\n",
       "      <th>3016</th>\n",
       "      <td>2.368205</td>\n",
       "      <td>2.355199</td>\n",
       "      <td>2.389602</td>\n",
       "      <td>2.379055</td>\n",
       "      <td>-1.076674</td>\n",
       "      <td>1.593369</td>\n",
       "      <td>1.592151</td>\n",
       "      <td>1.287178</td>\n",
       "      <td>-0.016101</td>\n",
       "    </tr>\n",
       "    <tr>\n",
       "      <th>3017</th>\n",
       "      <td>2.388422</td>\n",
       "      <td>2.379081</td>\n",
       "      <td>2.407013</td>\n",
       "      <td>2.389834</td>\n",
       "      <td>-1.125948</td>\n",
       "      <td>1.593369</td>\n",
       "      <td>1.592151</td>\n",
       "      <td>1.401550</td>\n",
       "      <td>0.698715</td>\n",
       "    </tr>\n",
       "    <tr>\n",
       "      <th>3018</th>\n",
       "      <td>2.377640</td>\n",
       "      <td>2.350959</td>\n",
       "      <td>2.378522</td>\n",
       "      <td>2.348289</td>\n",
       "      <td>-1.032470</td>\n",
       "      <td>1.593369</td>\n",
       "      <td>1.592151</td>\n",
       "      <td>1.515921</td>\n",
       "      <td>1.413531</td>\n",
       "    </tr>\n",
       "  </tbody>\n",
       "</table>\n",
       "<p>3019 rows × 9 columns</p>\n",
       "</div>"
      ],
      "text/plain": [
       "          Open      High       Low     Close    Volume      year     month  \\\n",
       "0    -1.220492 -1.218115 -1.214590 -1.212307  0.694305 -1.593657 -1.620300   \n",
       "1    -1.211731 -1.214320 -1.207354 -1.211633  0.236451 -1.593657 -1.620300   \n",
       "2    -1.212630 -1.217668 -1.209616 -1.213430 -0.184110 -1.593657 -1.620300   \n",
       "3    -1.211282 -1.211865 -1.207128 -1.207366  0.441811 -1.593657 -1.620300   \n",
       "4    -1.206565 -1.210303 -1.203284 -1.208264  0.370344 -1.593657 -1.620300   \n",
       "...        ...       ...       ...       ...       ...       ...       ...   \n",
       "3014  2.471086  2.458761  2.497915  2.478091 -1.127232  1.593369  1.592151   \n",
       "3015  2.383929  2.370599  2.388923  2.378381 -0.961911  1.593369  1.592151   \n",
       "3016  2.368205  2.355199  2.389602  2.379055 -1.076674  1.593369  1.592151   \n",
       "3017  2.388422  2.379081  2.407013  2.389834 -1.125948  1.593369  1.592151   \n",
       "3018  2.377640  2.350959  2.378522  2.348289 -1.032470  1.593369  1.592151   \n",
       "\n",
       "           day   weekday  \n",
       "0    -1.457731 -0.730916  \n",
       "1    -1.343360 -0.016101  \n",
       "2    -1.228989  0.698715  \n",
       "3    -1.114618  1.413531  \n",
       "4    -0.771504 -1.445732  \n",
       "...        ...       ...  \n",
       "3014  0.715322  1.413531  \n",
       "3015  1.172807 -0.730916  \n",
       "3016  1.287178 -0.016101  \n",
       "3017  1.401550  0.698715  \n",
       "3018  1.515921  1.413531  \n",
       "\n",
       "[3019 rows x 9 columns]"
      ]
     },
     "execution_count": 11,
     "metadata": {},
     "output_type": "execute_result"
    }
   ],
   "source": [
    "sdf"
   ]
  },
  {
   "cell_type": "markdown",
   "metadata": {},
   "source": [
    "### Converting our data to something usable in non-series models"
   ]
  },
  {
   "cell_type": "code",
   "execution_count": 12,
   "metadata": {},
   "outputs": [],
   "source": [
    "def create_series(df, col, out='Target', inplace=False):\n",
    "    \n",
    "    if not inplace:\n",
    "        df = df.copy()\n",
    "    \n",
    "    next_list = []\n",
    "    for i in range(1, len(df)):\n",
    "        next_list.append(df.iloc[i][col])\n",
    "        \n",
    "    df.drop(len(df) - 1, inplace=True)\n",
    "    df[out] = next_list\n",
    "    \n",
    "    if not inplace:\n",
    "        return df\n",
    "    return None\n",
    "\n",
    "def create_bin_series(df, col, out='Target', inplace=False):\n",
    "    if not inplace:\n",
    "        df = df.copy()\n",
    "    \n",
    "    next_list = []\n",
    "    for i in range(1, len(df)):\n",
    "        next_list.append(df.iloc[i][col] - df.iloc[i-1][col])\n",
    "        \n",
    "    for i in range(len(next_list)):\n",
    "        if next_list[i] >= 0:\n",
    "            next_list[i] = 1\n",
    "        else:\n",
    "            next_list[i] = 0\n",
    "        \n",
    "    df.drop(len(df) - 1, inplace=True)\n",
    "    df[out] = next_list\n",
    "    \n",
    "    if not inplace:\n",
    "        return df\n",
    "    return None"
   ]
  },
  {
   "cell_type": "code",
   "execution_count": 13,
   "metadata": {},
   "outputs": [],
   "source": [
    "create_bin_series(sdf, col='Close', inplace=True)"
   ]
  },
  {
   "cell_type": "code",
   "execution_count": 14,
   "metadata": {},
   "outputs": [
    {
     "data": {
      "text/html": [
       "<div>\n",
       "<style scoped>\n",
       "    .dataframe tbody tr th:only-of-type {\n",
       "        vertical-align: middle;\n",
       "    }\n",
       "\n",
       "    .dataframe tbody tr th {\n",
       "        vertical-align: top;\n",
       "    }\n",
       "\n",
       "    .dataframe thead th {\n",
       "        text-align: right;\n",
       "    }\n",
       "</style>\n",
       "<table border=\"1\" class=\"dataframe\">\n",
       "  <thead>\n",
       "    <tr style=\"text-align: right;\">\n",
       "      <th></th>\n",
       "      <th>Open</th>\n",
       "      <th>High</th>\n",
       "      <th>Low</th>\n",
       "      <th>Close</th>\n",
       "      <th>Volume</th>\n",
       "      <th>year</th>\n",
       "      <th>month</th>\n",
       "      <th>day</th>\n",
       "      <th>weekday</th>\n",
       "      <th>Target</th>\n",
       "    </tr>\n",
       "  </thead>\n",
       "  <tbody>\n",
       "    <tr>\n",
       "      <th>0</th>\n",
       "      <td>-1.220492</td>\n",
       "      <td>-1.218115</td>\n",
       "      <td>-1.214590</td>\n",
       "      <td>-1.212307</td>\n",
       "      <td>0.694305</td>\n",
       "      <td>-1.593657</td>\n",
       "      <td>-1.6203</td>\n",
       "      <td>-1.457731</td>\n",
       "      <td>-0.730916</td>\n",
       "      <td>1</td>\n",
       "    </tr>\n",
       "    <tr>\n",
       "      <th>1</th>\n",
       "      <td>-1.211731</td>\n",
       "      <td>-1.214320</td>\n",
       "      <td>-1.207354</td>\n",
       "      <td>-1.211633</td>\n",
       "      <td>0.236451</td>\n",
       "      <td>-1.593657</td>\n",
       "      <td>-1.6203</td>\n",
       "      <td>-1.343360</td>\n",
       "      <td>-0.016101</td>\n",
       "      <td>0</td>\n",
       "    </tr>\n",
       "    <tr>\n",
       "      <th>2</th>\n",
       "      <td>-1.212630</td>\n",
       "      <td>-1.217668</td>\n",
       "      <td>-1.209616</td>\n",
       "      <td>-1.213430</td>\n",
       "      <td>-0.184110</td>\n",
       "      <td>-1.593657</td>\n",
       "      <td>-1.6203</td>\n",
       "      <td>-1.228989</td>\n",
       "      <td>0.698715</td>\n",
       "      <td>1</td>\n",
       "    </tr>\n",
       "    <tr>\n",
       "      <th>3</th>\n",
       "      <td>-1.211282</td>\n",
       "      <td>-1.211865</td>\n",
       "      <td>-1.207128</td>\n",
       "      <td>-1.207366</td>\n",
       "      <td>0.441811</td>\n",
       "      <td>-1.593657</td>\n",
       "      <td>-1.6203</td>\n",
       "      <td>-1.114618</td>\n",
       "      <td>1.413531</td>\n",
       "      <td>0</td>\n",
       "    </tr>\n",
       "    <tr>\n",
       "      <th>4</th>\n",
       "      <td>-1.206565</td>\n",
       "      <td>-1.210303</td>\n",
       "      <td>-1.203284</td>\n",
       "      <td>-1.208264</td>\n",
       "      <td>0.370344</td>\n",
       "      <td>-1.593657</td>\n",
       "      <td>-1.6203</td>\n",
       "      <td>-0.771504</td>\n",
       "      <td>-1.445732</td>\n",
       "      <td>1</td>\n",
       "    </tr>\n",
       "  </tbody>\n",
       "</table>\n",
       "</div>"
      ],
      "text/plain": [
       "       Open      High       Low     Close    Volume      year   month  \\\n",
       "0 -1.220492 -1.218115 -1.214590 -1.212307  0.694305 -1.593657 -1.6203   \n",
       "1 -1.211731 -1.214320 -1.207354 -1.211633  0.236451 -1.593657 -1.6203   \n",
       "2 -1.212630 -1.217668 -1.209616 -1.213430 -0.184110 -1.593657 -1.6203   \n",
       "3 -1.211282 -1.211865 -1.207128 -1.207366  0.441811 -1.593657 -1.6203   \n",
       "4 -1.206565 -1.210303 -1.203284 -1.208264  0.370344 -1.593657 -1.6203   \n",
       "\n",
       "        day   weekday  Target  \n",
       "0 -1.457731 -0.730916       1  \n",
       "1 -1.343360 -0.016101       0  \n",
       "2 -1.228989  0.698715       1  \n",
       "3 -1.114618  1.413531       0  \n",
       "4 -0.771504 -1.445732       1  "
      ]
     },
     "execution_count": 14,
     "metadata": {},
     "output_type": "execute_result"
    }
   ],
   "source": [
    "sdf.head()"
   ]
  },
  {
   "cell_type": "markdown",
   "metadata": {},
   "source": [
    "### Test Train Split"
   ]
  },
  {
   "cell_type": "code",
   "execution_count": 15,
   "metadata": {},
   "outputs": [],
   "source": [
    "# Give first 70% of data for training\n",
    "# Using first 70% because the data is time series\n",
    "split = round(len(sdf) * .7)\n",
    "\n",
    "# Extracting NumPy array from Pandas Dataframe\n",
    "X = sdf.values[:,:-1]\n",
    "y = sdf.values[:, -1]\n",
    "\n",
    "X_train = X[:split]\n",
    "y_train = y[:split]\n",
    "\n",
    "X_test = X[split:]\n",
    "y_test = y[split:]"
   ]
  },
  {
   "cell_type": "markdown",
   "metadata": {},
   "source": [
    "### Model and training"
   ]
  },
  {
   "cell_type": "code",
   "execution_count": 16,
   "metadata": {},
   "outputs": [],
   "source": [
    "from sklearn.ensemble import RandomForestClassifier"
   ]
  },
  {
   "cell_type": "code",
   "execution_count": 17,
   "metadata": {},
   "outputs": [
    {
     "name": "stdout",
     "output_type": "stream",
     "text": [
      "CPU times: user 2 µs, sys: 0 ns, total: 2 µs\n",
      "Wall time: 5.25 µs\n"
     ]
    }
   ],
   "source": [
    "%time\n",
    "# n_estimators is our hyperparamter\n",
    "rfc = RandomForestClassifier(n_estimators=100, random_state=407, n_jobs=-1)\n",
    "rfc.fit(X_train, y_train)\n",
    "preds = rfc.predict(X_test)"
   ]
  },
  {
   "cell_type": "markdown",
   "metadata": {},
   "source": [
    "### Performance evaluation"
   ]
  },
  {
   "cell_type": "code",
   "execution_count": 18,
   "metadata": {},
   "outputs": [],
   "source": [
    "from sklearn.metrics import classification_report,confusion_matrix"
   ]
  },
  {
   "cell_type": "code",
   "execution_count": 19,
   "metadata": {},
   "outputs": [
    {
     "name": "stdout",
     "output_type": "stream",
     "text": [
      "[[240 193]\n",
      " [232 240]]\n",
      "              precision    recall  f1-score   support\n",
      "\n",
      "         0.0       0.51      0.55      0.53       433\n",
      "         1.0       0.55      0.51      0.53       472\n",
      "\n",
      "    accuracy                           0.53       905\n",
      "   macro avg       0.53      0.53      0.53       905\n",
      "weighted avg       0.53      0.53      0.53       905\n",
      "\n"
     ]
    }
   ],
   "source": [
    "print(confusion_matrix(y_test, preds))\n",
    "print(classification_report(y_test, preds))"
   ]
  },
  {
   "cell_type": "code",
   "execution_count": 20,
   "metadata": {},
   "outputs": [],
   "source": [
    "train_preds = rfc.predict(X_train)"
   ]
  },
  {
   "cell_type": "code",
   "execution_count": 21,
   "metadata": {},
   "outputs": [
    {
     "name": "stdout",
     "output_type": "stream",
     "text": [
      "[[ 996    0]\n",
      " [   0 1117]]\n",
      "              precision    recall  f1-score   support\n",
      "\n",
      "         0.0       1.00      1.00      1.00       996\n",
      "         1.0       1.00      1.00      1.00      1117\n",
      "\n",
      "    accuracy                           1.00      2113\n",
      "   macro avg       1.00      1.00      1.00      2113\n",
      "weighted avg       1.00      1.00      1.00      2113\n",
      "\n"
     ]
    }
   ],
   "source": [
    "print(confusion_matrix(y_train, train_preds))\n",
    "print(classification_report(y_train, train_preds))"
   ]
  },
  {
   "cell_type": "code",
   "execution_count": 22,
   "metadata": {},
   "outputs": [
    {
     "name": "stdout",
     "output_type": "stream",
     "text": [
      "[[164 269]\n",
      " [145 327]]\n",
      "              precision    recall  f1-score   support\n",
      "\n",
      "         0.0       0.53      0.38      0.44       433\n",
      "         1.0       0.55      0.69      0.61       472\n",
      "\n",
      "    accuracy                           0.54       905\n",
      "   macro avg       0.54      0.54      0.53       905\n",
      "weighted avg       0.54      0.54      0.53       905\n",
      "\n",
      "[[ 931   65]\n",
      " [  60 1057]]\n",
      "              precision    recall  f1-score   support\n",
      "\n",
      "         0.0       0.94      0.93      0.94       996\n",
      "         1.0       0.94      0.95      0.94      1117\n",
      "\n",
      "    accuracy                           0.94      2113\n",
      "   macro avg       0.94      0.94      0.94      2113\n",
      "weighted avg       0.94      0.94      0.94      2113\n",
      "\n"
     ]
    }
   ],
   "source": [
    "rfc = RandomForestClassifier(n_estimators=5, random_state=407, n_jobs=-1)\n",
    "rfc.fit(X_train, y_train)\n",
    "preds = rfc.predict(X_test)\n",
    "\n",
    "print(confusion_matrix(y_test, preds))\n",
    "print(classification_report(y_test, preds))\n",
    "\n",
    "train_preds = rfc.predict(X_train)\n",
    "\n",
    "print(confusion_matrix(y_train, train_preds))\n",
    "print(classification_report(y_train, train_preds))"
   ]
  }
 ],
 "metadata": {
  "kernelspec": {
   "display_name": "Python 3.7.6 64-bit ('base': conda)",
   "language": "python",
   "name": "python37664bitbaseconda9e65c572ed0444d5bc39393b7e6857ff"
  },
  "language_info": {
   "codemirror_mode": {
    "name": "ipython",
    "version": 3
   },
   "file_extension": ".py",
   "mimetype": "text/x-python",
   "name": "python",
   "nbconvert_exporter": "python",
   "pygments_lexer": "ipython3",
   "version": "3.7.7"
  }
 },
 "nbformat": 4,
 "nbformat_minor": 4
}
